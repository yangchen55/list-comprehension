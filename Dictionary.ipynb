{
 "cells": [
  {
   "cell_type": "markdown",
   "metadata": {},
   "source": [
    "# Python dictionary\n",
    "\n",
    "Python dictionary is an unordered collection of items. While other compound data types have only value as an element, a dictionary has a key: value pair."
   ]
  },
  {
   "cell_type": "code",
   "execution_count": 1,
   "metadata": {
    "collapsed": true
   },
   "outputs": [],
   "source": [
    "# change or add elements in a dictionary \n",
    "\n",
    "# empty dictionary\n",
    "my_dict = {}\n",
    "\n",
    "# dictionary with integer keys\n",
    "my_dict = {1: 'apple', 2: 'ball'}\n",
    "\n",
    "# dictionary with mixed keys\n",
    "my_dict = {'name': 'apple', 1:[5,6,7]}\n",
    "\n",
    "# using dict()\n",
    "my_dict = dict({1:'apple', 2:'ball'})\n",
    "\n",
    "# from sequence having each item as a pair\n",
    "my_dict = dict([(1, 'apple'), (2, 'ball')])"
   ]
  },
  {
   "cell_type": "code",
   "execution_count": 2,
   "metadata": {},
   "outputs": [
    {
     "name": "stdout",
     "output_type": "stream",
     "text": [
      "Jack\n",
      "26\n",
      "None\n",
      "Ktm\n"
     ]
    }
   ],
   "source": [
    "# Access elements from a dictionary\n",
    "my_dict = {'name': 'Jack', 'age': 26}\n",
    "\n",
    "print(my_dict['name'])\n",
    "print(my_dict.get('age'))\n",
    "print(my_dict.get('address'))\n",
    "print(my_dict.get('address', 'Ktm'))"
   ]
  },
  {
   "cell_type": "code",
   "execution_count": 3,
   "metadata": {},
   "outputs": [
    {
     "name": "stdout",
     "output_type": "stream",
     "text": [
      "{'name': 'Apple', 'price': 35}\n",
      "{'name': 'Apple', 'price': 40}\n",
      "{'name': 'Apple', 'price': 40, 'location': 'Mustang'}\n"
     ]
    }
   ],
   "source": [
    "my_dict = {'name': 'Apple', 'price': 35}\n",
    "print(my_dict)\n",
    "\n",
    "my_dict['price'] = 40\n",
    "print(my_dict)\n",
    "\n",
    "my_dict['location'] = 'Mustang'\n",
    "print(my_dict)"
   ]
  },
  {
   "cell_type": "code",
   "execution_count": 4,
   "metadata": {},
   "outputs": [
    {
     "name": "stdout",
     "output_type": "stream",
     "text": [
      "{1: 'a', 2: 'b', 3: 'c', 4: 'd', 5: 'e'}\n",
      "d\n",
      "{1: 'a', 2: 'b', 3: 'c', 5: 'e'}\n",
      "(5, 'e')\n",
      "{1: 'a', 2: 'b', 3: 'c'}\n",
      "{1: 'a', 2: 'b'}\n",
      "{}\n"
     ]
    }
   ],
   "source": [
    "# Delete or remove elements from a dictionary\n",
    "\n",
    "squares = {1:'a', 2:'b', 3:'c', 4:'d', 5:'e'}\n",
    "\n",
    "print(squares)\n",
    "\n",
    "# remove a particular item\n",
    "print(squares.pop(4))\n",
    "\n",
    "print(squares)\n",
    "\n",
    "# remove an arbitrary item\n",
    "print(squares.popitem())\n",
    "\n",
    "print(squares)\n",
    "\n",
    "# delete a particular item\n",
    "del squares[3]\n",
    "\n",
    "print(squares)\n",
    "\n",
    "# remove all items\n",
    "squares.clear()\n",
    "\n",
    "print(squares)\n",
    "\n",
    "# delete the dictionary itself\n",
    "del squares\n"
   ]
  },
  {
   "cell_type": "code",
   "execution_count": 5,
   "metadata": {},
   "outputs": [
    {
     "name": "stdout",
     "output_type": "stream",
     "text": [
      "{1: 'a', 2: 'b', 3: 'c', 4: 'd', 5: 'e'}\n",
      "dict_keys([1, 2, 3, 4, 5])\n",
      "dict_values(['a', 'b', 'c', 'd', 'e'])\n",
      "Key: 1 Value: a\n",
      "Key: 2 Value: b\n",
      "Key: 3 Value: c\n",
      "Key: 4 Value: d\n",
      "Key: 5 Value: e\n"
     ]
    }
   ],
   "source": [
    "# dictionary method \n",
    "\n",
    "squares = {1:'a', 2:'b', 3:'c', 4:'d', 5:'e'}\n",
    "\n",
    "print(squares)\n",
    "\n",
    "print(squares.keys())\n",
    "\n",
    "print(squares.values())\n",
    "\n",
    "for key, value in squares.items():\n",
    "    print(\"Key: {} Value: {}\".format(key, value))\n"
   ]
  },
  {
   "cell_type": "code",
   "execution_count": 6,
   "metadata": {},
   "outputs": [
    {
     "name": "stdout",
     "output_type": "stream",
     "text": [
      "{1: 1, 3: 9, 5: 25, 7: 49, 9: 81}\n",
      "True\n",
      "True\n",
      "False\n"
     ]
    }
   ],
   "source": [
    "# dictionary memebership test\n",
    "\n",
    "squares = {1: 1, 3: 9, 5: 25, 7: 49, 9: 81}\n",
    "\n",
    "print(squares)\n",
    "\n",
    "print(1 in squares)\n",
    "\n",
    "print(2 not in squares)\n",
    "\n",
    "print(49 in squares)\n"
   ]
  },
  {
   "cell_type": "code",
   "execution_count": 7,
   "metadata": {},
   "outputs": [
    {
     "name": "stdout",
     "output_type": "stream",
     "text": [
      "1\n",
      "9\n",
      "25\n",
      "49\n",
      "81\n"
     ]
    }
   ],
   "source": [
    "# iteration through a dictionary\n",
    "\n",
    "squares = {1: 1, 3: 9, 5: 25, 7: 49, 9: 81}\n",
    "\n",
    "for i in squares:\n",
    "    print(squares[i])"
   ]
  },
  {
   "cell_type": "code",
   "execution_count": 8,
   "metadata": {},
   "outputs": [
    {
     "name": "stdout",
     "output_type": "stream",
     "text": [
      "5\n",
      "[1, 3, 5, 7, 9]\n"
     ]
    }
   ],
   "source": [
    "squares = {1: 1, 3: 9, 5: 25, 7: 49, 9: 81}\n",
    "\n",
    "print(len(squares))\n",
    "\n",
    "print(sorted(squares))"
   ]
  },
  {
   "cell_type": "markdown",
   "metadata": {},
   "source": [
    "## Task "
   ]
  },
  {
   "cell_type": "code",
   "execution_count": 9,
   "metadata": {
    "collapsed": true
   },
   "outputs": [],
   "source": [
    "aboutBill = {'name': 'Bill', 'age': 39, 'height': 6 * 12 + 2}\n",
    "\n",
    "# Write the code to find bill's age \n",
    "# Write the code to find bill's height\n",
    "# Write the code to add the fact that bill lives in the city of wolverhampton"
   ]
  },
  {
   "cell_type": "markdown",
   "metadata": {},
   "source": [
    "Dictionaries are also known as hash tables, hash maps and associative arrays in other programming languages."
   ]
  },
  {
   "cell_type": "markdown",
   "metadata": {},
   "source": [
    "## Task"
   ]
  },
  {
   "cell_type": "code",
   "execution_count": 10,
   "metadata": {},
   "outputs": [
    {
     "name": "stdout",
     "output_type": "stream",
     "text": [
      "0\n"
     ]
    }
   ],
   "source": [
    "# Implement the hash function\n",
    "\n",
    "def compute_hash(key, size_of_hash_table):\n",
    "    # loop through the characters of the key\n",
    "    # convert the character to a number  (use ord(c))\n",
    "    # add this number to running total\n",
    "    # return (total modulo sizeOfHashTable)   modulo is '%' in Python.\n",
    "    return 0\n",
    "      \n",
    "size_of_hash_table = 20\n",
    "\n",
    "def my_hash(key):\n",
    "    value = compute_hash(key, size_of_hash_table)\n",
    "    print(value)\n",
    "    \n",
    "my_hash('ABC')"
   ]
  },
  {
   "cell_type": "markdown",
   "metadata": {},
   "source": [
    "# Task\n",
    "\n",
    "Write a Python program that uses Python's built-in dictionary structure. Your program should: \n",
    "\n",
    "1. Creates a dictionary mapping company names to phone numbers. Put three items at begin.\n",
    "2. Allows the end-user to:\n",
    "\n",
    "    1. add new mappings by entering a name and a number, or \n",
    "    2. enter a name to see the corresponding phone number. \n",
    "    \n",
    "    Within a loop, prompt the end-user to choose operation A or B, then prompt for the necessary inputs, then call the chosen operation."
   ]
  },
  {
   "cell_type": "code",
   "execution_count": null,
   "metadata": {
    "collapsed": true
   },
   "outputs": [],
   "source": []
  }
 ],
 "metadata": {
  "kernelspec": {
   "display_name": "Python 3",
   "language": "python",
   "name": "python3"
  },
  "language_info": {
   "codemirror_mode": {
    "name": "ipython",
    "version": 3
   },
   "file_extension": ".py",
   "mimetype": "text/x-python",
   "name": "python",
   "nbconvert_exporter": "python",
   "pygments_lexer": "ipython3",
   "version": "3.6.3"
  }
 },
 "nbformat": 4,
 "nbformat_minor": 2
}
