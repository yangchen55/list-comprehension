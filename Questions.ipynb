{
 "cells": [
  {
   "cell_type": "markdown",
   "metadata": {},
   "source": [
    "# Q. You are given a string and your task is to swap cases. In other words, convert all lowercase letters to uppercase letters and vice versa.\n",
    "\n",
    "input: 'This is mE 123'\n",
    "\n",
    "output: 'tHIS IS Me 123'"
   ]
  },
  {
   "cell_type": "markdown",
   "metadata": {},
   "source": [
    "# Q. The user enters a string and a substring. You have to print the number of times that the substring occurs in the given string. String traversal will take place from left to right, not from right to left.\n",
    "\n",
    "Input: \n",
    "\n",
    "ABCDCDC\n",
    "\n",
    "CDC\n",
    "\n",
    "Output:\n",
    "\n",
    "2"
   ]
  },
  {
   "cell_type": "markdown",
   "metadata": {},
   "source": [
    "# Q. You are given a string and your task is remove all Upper case letters. \n",
    "\n",
    "input: 'This is mE 123'\n",
    "\n",
    "output: 'his is m 123'"
   ]
  },
  {
   "cell_type": "markdown",
   "metadata": {},
   "source": [
    "# Q. Find the maximum value from the given list \n",
    "\n",
    "\"Don't use max() function \"\n",
    "\n",
    "input: [12, 3, 20, 45, 67]\n",
    "\n",
    "output: 67\n"
   ]
  },
  {
   "cell_type": "code",
   "execution_count": 33,
   "metadata": {},
   "outputs": [
    {
     "name": "stdout",
     "output_type": "stream",
     "text": [
      "67\n"
     ]
    }
   ],
   "source": [
    "input=[12, 3, 20, 45, 67]\n",
    "a=0\n",
    "for i in input:\n",
    "    if i>a:\n",
    "        a=i\n",
    "print(a)"
   ]
  },
  {
   "cell_type": "markdown",
   "metadata": {},
   "source": [
    "# Q. Find the element wise sum of two 2-d list\n",
    "\n",
    "input: [[1,2],[3,4]], [[1,1],[1,1]]\n",
    "\n",
    "output: [[2,3],[4,5]]"
   ]
  },
  {
   "cell_type": "code",
   "execution_count": null,
   "metadata": {},
   "outputs": [],
   "source": []
  },
  {
   "cell_type": "markdown",
   "metadata": {},
   "source": [
    "# Q.  Write a Python program to insert a given string at the beginning of all items in a list.\n",
    "\n",
    "Sample list : [1,2,3,4], string : emp\n",
    "\n",
    "Expected output : ['emp1', 'emp2', 'emp3', 'emp4']"
   ]
  },
  {
   "cell_type": "code",
   "execution_count": null,
   "metadata": {},
   "outputs": [],
   "source": []
  },
  {
   "cell_type": "markdown",
   "metadata": {},
   "source": [
    "# Q. Sort the list of tuple based on second item\n",
    "\n",
    "input: [('A',10),('B', 2), ('C', 7)]\n",
    "\n",
    "output:  [('B', 2),('C', 7), ('A',10)]"
   ]
  },
  {
   "cell_type": "code",
   "execution_count": 29,
   "metadata": {
    "collapsed": true
   },
   "outputs": [
    {
     "data": {
      "text/plain": [
       "[('B', 2), ('C', 7), ('A', 10)]"
      ]
     },
     "execution_count": 29,
     "metadata": {},
     "output_type": "execute_result"
    }
   ],
   "source": [
    "\n",
    "input= [('A',10),('B', 2), ('C', 7)]\n",
    "x=[(a[1],a[0] ) for a  in input]\n",
    "y=(sorted(x))\n",
    "[(a[1],a[0] ) for a  in y]\n"
   ]
  },
  {
   "cell_type": "code",
   "execution_count": 40,
   "metadata": {},
   "outputs": [
    {
     "name": "stdout",
     "output_type": "stream",
     "text": [
      "[('B', 2)]\n",
      "[('B', 2), ('C', 7)]\n",
      "[('B', 2), ('C', 7), ('A', 10)]\n"
     ]
    }
   ],
   "source": [
    "\n",
    "input= [('A',10),('B', 2), ('C', 7)]\n",
    "a=[]\n",
    "b=[]\n",
    "for i in input:\n",
    "    a.append(i[::-1])\n",
    "    a.sort()\n",
    "for i in a:\n",
    "    b.append(i[::-1])\n",
    "    print(b)"
   ]
  },
  {
   "cell_type": "markdown",
   "metadata": {},
   "source": [
    "# Q. Remove the items from the given dictionary having highest value.\n",
    "\n",
    "input: {'A':10, 'B':3, 'C':12, 'D':2}\n",
    "\n",
    "output: {'A':10, 'B':3,'D':2}"
   ]
  },
  {
   "cell_type": "code",
   "execution_count": 19,
   "metadata": {},
   "outputs": [
    {
     "name": "stdout",
     "output_type": "stream",
     "text": [
      "{'A': 10, 'B': 3, 'D': 2}\n"
     ]
    }
   ],
   "source": [
    "input ={'A':10, 'B':3, 'C':12, 'D':2}\n",
    "del input[max(input, key =input.get )]\n",
    "print (input)"
   ]
  },
  {
   "cell_type": "code",
   "execution_count": null,
   "metadata": {
    "collapsed": true
   },
   "outputs": [],
   "source": []
  }
 ],
 "metadata": {
  "kernelspec": {
   "display_name": "Python 3",
   "language": "python",
   "name": "python3"
  },
  "language_info": {
   "codemirror_mode": {
    "name": "ipython",
    "version": 3
   },
   "file_extension": ".py",
   "mimetype": "text/x-python",
   "name": "python",
   "nbconvert_exporter": "python",
   "pygments_lexer": "ipython3",
   "version": "3.6.3"
  }
 },
 "nbformat": 4,
 "nbformat_minor": 2
}
